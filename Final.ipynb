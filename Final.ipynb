{
 "cells": [
  {
   "cell_type": "code",
   "execution_count": 1,
   "metadata": {},
   "outputs": [],
   "source": [
    "import json\n",
    "import csv\n",
    "import re\n",
    "import tweepy\n",
    "import nltk\n",
    "import pandas as pd\n",
    "import numpy as np\n",
    "import sklearn\n",
    "import matplotlib.pyplot as plt  \n",
    "import seaborn as sns\n",
    "from sklearn.feature_extraction.text import TfidfVectorizer\n",
    "from sklearn.feature_extraction.text import CountVectorizer\n",
    "from sklearn.feature_selection import chi2\n",
    "from sklearn.model_selection import train_test_split\n",
    "from sklearn.naive_bayes import MultinomialNB\n",
    "from sklearn.linear_model import LogisticRegression\n",
    "from sklearn.ensemble import RandomForestClassifier\n",
    "from sklearn.svm import LinearSVC\n",
    "from sklearn.neighbors import KNeighborsClassifier\n",
    "from sklearn.naive_bayes import ComplementNB\n",
    "from sklearn.tree import DecisionTreeClassifier\n",
    "from sklearn.svm import SVC\n",
    "from sklearn.model_selection import cross_val_score\n",
    "import matplotlib.pyplot as plt\n",
    "from sklearn.metrics import f1_score\n",
    "from sklearn.metrics import confusion_matrix\n",
    "from sklearn import metrics\n",
    "from sklearn.metrics import make_scorer, accuracy_score, precision_score, recall_score, f1_score\n",
    "import sklearn.model_selection as model_selection\n",
    "from sklearn.model_selection import cross_validate"
   ]
  },
  {
   "cell_type": "code",
   "execution_count": 2,
   "metadata": {},
   "outputs": [],
   "source": [
    "consumer_key = 'JXCjFvSrGB6Ej4UtT5aNXKOSH' \n",
    "consumer_secret = 'oIL4sxvEMlMz7vj2Qx4v7t9AMdG9E7o9I5v9lzd10QHcV98Lw4' \n",
    "access_token = '1286322486414462977-2qxLDLBVXGPRsto0wUdizM4QVJRw8E' \n",
    "access_token_secret = 'kXIktV80cX5nomLLmYAaPXzPFyyg4oNsWGmqCXHEz3trR'\n",
    "\n",
    "auth = tweepy.OAuthHandler(consumer_key, consumer_secret)\n",
    "auth.set_access_token(access_token, access_token_secret)\n",
    "\n",
    "api = tweepy.API(auth, wait_on_rate_limit = True)"
   ]
  },
  {
   "cell_type": "code",
   "execution_count": 3,
   "metadata": {},
   "outputs": [],
   "source": [
    "data=pd.read_csv('C:/Users/Dell/Downloads/finaldata1.csv')"
   ]
  },
  {
   "cell_type": "code",
   "execution_count": 4,
   "metadata": {},
   "outputs": [
    {
     "name": "stderr",
     "output_type": "stream",
     "text": [
      "[nltk_data] Downloading package stopwords to\n",
      "[nltk_data]     C:\\Users\\Dell\\AppData\\Roaming\\nltk_data...\n",
      "[nltk_data]   Package stopwords is already up-to-date!\n",
      "[nltk_data] Downloading package punkt to\n",
      "[nltk_data]     C:\\Users\\Dell\\AppData\\Roaming\\nltk_data...\n",
      "[nltk_data]   Package punkt is already up-to-date!\n"
     ]
    }
   ],
   "source": [
    "from nltk.stem import PorterStemmer\n",
    "from nltk.tokenize import word_tokenize as wt\n",
    "nltk.download('stopwords')\n",
    "nltk.download('punkt')\n",
    "from nltk.corpus import stopwords"
   ]
  },
  {
   "cell_type": "code",
   "execution_count": 5,
   "metadata": {},
   "outputs": [],
   "source": [
    "def preProcessing(tweets):\n",
    "  tweets = tweets.tolist()\n",
    "  ps = PorterStemmer()\n",
    "  processedTweets = []\n",
    "  punct = ['.',',','?','!',';',':','-','_','(',')','{','}','[',']','&','*','+','=',\"'\",'\"','<','>','|','\\\\','/','`','~','@','#']\n",
    "  sWords = set(stopwords.words('english'))\n",
    "  for tweet in tweets:\n",
    "    tweet = tweet.encode().decode()\n",
    "    #tweet = tweet.decode('utf-8')\n",
    "    tweet = tweet.encode('ascii', 'ignore').decode('ascii') #removing the emojis\n",
    "    tweet = tweet.encode('latin-1', 'ignore').decode('latin-1')\n",
    "    tweet = re.sub(r'http\\S+', '', tweet) #removing the urls\n",
    "    tweet = tweet.lower() #converting the text into lower cases\n",
    "    words = wt(tweet) #tokenization\n",
    "    processedWords = []\n",
    "    for word in words:\n",
    "      if word in punct or word in sWords:\n",
    "        continue\n",
    "      if words[words.index(word) - 1] != '@' and words[words.index(word) - 1] != '#':\n",
    "        #processedWords.append(ps.stem(word)) #stemming\n",
    "        processedWords.append(word)\n",
    "    processedWords.remove(processedWords[0])\n",
    "    processedTweets.append(' '.join(processedWords))\n",
    "  return processedTweets"
   ]
  },
  {
   "cell_type": "code",
   "execution_count": 6,
   "metadata": {},
   "outputs": [
    {
     "data": {
      "text/html": [
       "<div>\n",
       "<style scoped>\n",
       "    .dataframe tbody tr th:only-of-type {\n",
       "        vertical-align: middle;\n",
       "    }\n",
       "\n",
       "    .dataframe tbody tr th {\n",
       "        vertical-align: top;\n",
       "    }\n",
       "\n",
       "    .dataframe thead th {\n",
       "        text-align: right;\n",
       "    }\n",
       "</style>\n",
       "<table border=\"1\" class=\"dataframe\">\n",
       "  <thead>\n",
       "    <tr style=\"text-align: right;\">\n",
       "      <th></th>\n",
       "      <th>Unnamed: 0</th>\n",
       "      <th>Tweet</th>\n",
       "      <th>User</th>\n",
       "      <th>createdTime</th>\n",
       "      <th>label</th>\n",
       "    </tr>\n",
       "  </thead>\n",
       "  <tbody>\n",
       "    <tr>\n",
       "      <th>0</th>\n",
       "      <td>0</td>\n",
       "      <td>delay drinking water supply one hour bhrundava...</td>\n",
       "      <td>b'DeepakPawar55'</td>\n",
       "      <td>2020-12-02 00:43:22</td>\n",
       "      <td>water</td>\n",
       "    </tr>\n",
       "    <tr>\n",
       "      <th>1</th>\n",
       "      <td>1</td>\n",
       "      <td>look disconnecting water electricity 3 months ...</td>\n",
       "      <td>b'Shrikanth567'</td>\n",
       "      <td>2020-12-01 19:26:20</td>\n",
       "      <td>water</td>\n",
       "    </tr>\n",
       "    <tr>\n",
       "      <th>2</th>\n",
       "      <td>2</td>\n",
       "      <td>leakage dilsukhnagar past days situation near ...</td>\n",
       "      <td>b'narendra_kumar9'</td>\n",
       "      <td>2020-12-01 14:03:01</td>\n",
       "      <td>water</td>\n",
       "    </tr>\n",
       "    <tr>\n",
       "      <th>3</th>\n",
       "      <td>3</td>\n",
       "      <td>water flowing prayer power church parsigutta m...</td>\n",
       "      <td>b'vinodkaparthi19'</td>\n",
       "      <td>2020-12-01 09:39:32</td>\n",
       "      <td>water</td>\n",
       "    </tr>\n",
       "    <tr>\n",
       "      <th>4</th>\n",
       "      <td>4</td>\n",
       "      <td>govt telangana implement strict rules voting v...</td>\n",
       "      <td>b'rakeshreddy_ch'</td>\n",
       "      <td>2020-12-01 08:41:44</td>\n",
       "      <td>water</td>\n",
       "    </tr>\n",
       "  </tbody>\n",
       "</table>\n",
       "</div>"
      ],
      "text/plain": [
       "   Unnamed: 0                                              Tweet  \\\n",
       "0           0  delay drinking water supply one hour bhrundava...   \n",
       "1           1  look disconnecting water electricity 3 months ...   \n",
       "2           2  leakage dilsukhnagar past days situation near ...   \n",
       "3           3  water flowing prayer power church parsigutta m...   \n",
       "4           4  govt telangana implement strict rules voting v...   \n",
       "\n",
       "                 User          createdTime  label  \n",
       "0    b'DeepakPawar55'  2020-12-02 00:43:22  water  \n",
       "1     b'Shrikanth567'  2020-12-01 19:26:20  water  \n",
       "2  b'narendra_kumar9'  2020-12-01 14:03:01  water  \n",
       "3  b'vinodkaparthi19'  2020-12-01 09:39:32  water  \n",
       "4   b'rakeshreddy_ch'  2020-12-01 08:41:44  water  "
      ]
     },
     "execution_count": 6,
     "metadata": {},
     "output_type": "execute_result"
    }
   ],
   "source": [
    "df = data.copy()\n",
    "df.Tweet = preProcessing(df.Tweet)\n",
    "df.head()"
   ]
  },
  {
   "cell_type": "code",
   "execution_count": 7,
   "metadata": {},
   "outputs": [
    {
     "data": {
      "text/plain": [
       "array([['water'],\n",
       "       ['electricity'],\n",
       "       ['police'],\n",
       "       ['solid waste'],\n",
       "       ['sanitation'],\n",
       "       ['education'],\n",
       "       ['environment'],\n",
       "       ['economy'],\n",
       "       ['fire'],\n",
       "       ['health'],\n",
       "       ['transport'],\n",
       "       ['telecommunication']], dtype=object)"
      ]
     },
     "execution_count": 7,
     "metadata": {},
     "output_type": "execute_result"
    }
   ],
   "source": [
    "pd.DataFrame(df.label.unique()).values"
   ]
  },
  {
   "cell_type": "code",
   "execution_count": 8,
   "metadata": {},
   "outputs": [],
   "source": [
    "df1=df[['Tweet','label']].copy()\n",
    "df1.columns=['tweet','label']"
   ]
  },
  {
   "cell_type": "code",
   "execution_count": 9,
   "metadata": {},
   "outputs": [],
   "source": [
    "df2 = df1.copy()"
   ]
  },
  {
   "cell_type": "code",
   "execution_count": 10,
   "metadata": {},
   "outputs": [
    {
     "data": {
      "text/html": [
       "<div>\n",
       "<style scoped>\n",
       "    .dataframe tbody tr th:only-of-type {\n",
       "        vertical-align: middle;\n",
       "    }\n",
       "\n",
       "    .dataframe tbody tr th {\n",
       "        vertical-align: top;\n",
       "    }\n",
       "\n",
       "    .dataframe thead th {\n",
       "        text-align: right;\n",
       "    }\n",
       "</style>\n",
       "<table border=\"1\" class=\"dataframe\">\n",
       "  <thead>\n",
       "    <tr style=\"text-align: right;\">\n",
       "      <th></th>\n",
       "      <th>0</th>\n",
       "    </tr>\n",
       "  </thead>\n",
       "  <tbody>\n",
       "    <tr>\n",
       "      <th>0</th>\n",
       "      <td>water</td>\n",
       "    </tr>\n",
       "    <tr>\n",
       "      <th>1</th>\n",
       "      <td>electricity</td>\n",
       "    </tr>\n",
       "    <tr>\n",
       "      <th>2</th>\n",
       "      <td>police</td>\n",
       "    </tr>\n",
       "    <tr>\n",
       "      <th>3</th>\n",
       "      <td>solid waste</td>\n",
       "    </tr>\n",
       "    <tr>\n",
       "      <th>4</th>\n",
       "      <td>sanitation</td>\n",
       "    </tr>\n",
       "    <tr>\n",
       "      <th>5</th>\n",
       "      <td>education</td>\n",
       "    </tr>\n",
       "    <tr>\n",
       "      <th>6</th>\n",
       "      <td>environment</td>\n",
       "    </tr>\n",
       "    <tr>\n",
       "      <th>7</th>\n",
       "      <td>economy</td>\n",
       "    </tr>\n",
       "    <tr>\n",
       "      <th>8</th>\n",
       "      <td>fire</td>\n",
       "    </tr>\n",
       "    <tr>\n",
       "      <th>9</th>\n",
       "      <td>health</td>\n",
       "    </tr>\n",
       "    <tr>\n",
       "      <th>10</th>\n",
       "      <td>transport</td>\n",
       "    </tr>\n",
       "    <tr>\n",
       "      <th>11</th>\n",
       "      <td>telecommunication</td>\n",
       "    </tr>\n",
       "  </tbody>\n",
       "</table>\n",
       "</div>"
      ],
      "text/plain": [
       "                    0\n",
       "0               water\n",
       "1         electricity\n",
       "2              police\n",
       "3         solid waste\n",
       "4          sanitation\n",
       "5           education\n",
       "6         environment\n",
       "7             economy\n",
       "8                fire\n",
       "9              health\n",
       "10          transport\n",
       "11  telecommunication"
      ]
     },
     "execution_count": 10,
     "metadata": {},
     "output_type": "execute_result"
    }
   ],
   "source": [
    "pd.DataFrame(df2.label.unique())"
   ]
  },
  {
   "cell_type": "code",
   "execution_count": 11,
   "metadata": {},
   "outputs": [],
   "source": [
    "# Create a new column 'category_id' with encoded categories \n",
    "df2['category_id'] = df2['label'].factorize()[0]\n",
    "category_id_df = df2[['label', 'category_id']].drop_duplicates()"
   ]
  },
  {
   "cell_type": "code",
   "execution_count": 12,
   "metadata": {},
   "outputs": [],
   "source": [
    "# Dictionaries for future use\n",
    "category_to_id = dict(category_id_df.values)\n",
    "id_to_category = dict(category_id_df[['category_id', 'label']].values)"
   ]
  },
  {
   "cell_type": "code",
   "execution_count": 13,
   "metadata": {},
   "outputs": [
    {
     "data": {
      "image/png": "[encoded data removed]",
      "text/plain": [
       "<Figure size 576x432 with 1 Axes>"
      ]
     },
     "metadata": {
      "needs_background": "light"
     },
     "output_type": "display_data"
    }
   ],
   "source": [
    "fig = plt.figure(figsize=(8,6))\n",
    "colors = ['grey','grey','grey','grey','grey','grey','grey','grey',\n",
    "    'grey','darkblue','darkblue','darkblue']\n",
    "df2.groupby('label').tweet.count().sort_values().plot.barh(\n",
    "    ylim=0, color=colors, title= 'NUMBER OF TWEETS IN EACH CATEGORY\\n')\n",
    "plt.xlabel('Number of ocurrences', fontsize = 10);"
   ]
  },
  {
   "cell_type": "markdown",
   "metadata": {},
   "source": [
    "# Count Vectorizer"
   ]
  },
  {
   "cell_type": "code",
   "execution_count": 15,
   "metadata": {},
   "outputs": [
    {
     "name": "stdout",
     "output_type": "stream",
     "text": [
      "Each of the 3808 tweets is represented by 79690 features\n"
     ]
    }
   ],
   "source": [
    "vectorizer = CountVectorizer(ngram_range=(1, 3), \n",
    "                        stop_words='english')\n",
    "# We transform each complaint into a vector\n",
    "features = vectorizer.fit_transform(df2.tweet).toarray()\n",
    "\n",
    "labels = df2.category_id\n",
    "\n",
    "print(\"Each of the %d tweets is represented by %d features\" %(features.shape))"
   ]
  },
  {
   "cell_type": "code",
   "execution_count": 17,
   "metadata": {},
   "outputs": [],
   "source": [
    "X = df2['tweet'] # Collection of documents\n",
    "y = df2['label'] # Target or the labels we want to predict (i.e., the 13 different complaints of products)\n",
    "\n",
    "X_train, X_test, y_train, y_test = train_test_split(X, y, \n",
    "                                                    test_size=0.2,\n",
    "                                                    random_state = 0)"
   ]
  },
  {
   "cell_type": "code",
   "execution_count": null,
   "metadata": {},
   "outputs": [],
   "source": [
    "models = [\n",
    "    RandomForestClassifier(n_estimators=100, max_depth=5, random_state=0),\n",
    "    LinearSVC(),\n",
    "    MultinomialNB(),\n",
    "    LogisticRegression(random_state=0),\n",
    "    KNeighborsClassifier(n_neighbors=1),\n",
    "    ComplementNB(),\n",
    "    DecisionTreeClassifier(random_state=0),\n",
    "    SVC(),\n",
    "]\n",
    "\n",
    "# 5 Cross-validation\n",
    "CV = 5\n",
    "cv_df = pd.DataFrame(index=range(CV * len(models)))\n",
    "\n",
    "entries = []\n",
    "score=['f1_macro','f1_micro']\n",
    "for model in models:\n",
    "    model_name = model.__class__.__name__\n",
    "    accuracies = cross_validate(model, features, labels, scoring=score, cv=CV)\n",
    "    for f1_macro,f1_micro in zip(accuracies['test_f1_macro'],accuracies['test_f1_micro']):\n",
    "        entries.append((model_name,f1_macro,f1_micro))\n",
    "cv_df = pd.DataFrame(entries, columns=['model_name','f1_macro','f1_micro'])\n",
    "cv_df\n"
   ]
  },
  {
   "cell_type": "code",
   "execution_count": null,
   "metadata": {},
   "outputs": [],
   "source": [
    "f1_macro = cv_df.groupby('model_name').f1_macro.mean()\n",
    "f1_micro = cv_df.groupby('model_name').f1_micro.mean()\n",
    "acc = pd.concat([f1_macro,f1_micro], axis= 1, \n",
    "          ignore_index=True)\n",
    "acc.columns = ['f1-macro_mean','f1-micro_mean']\n",
    "acc=acc.sort_values(by=['f1-macro_mean'], ascending=False)\n",
    "acc"
   ]
  },
  {
   "cell_type": "code",
   "execution_count": null,
   "metadata": {},
   "outputs": [],
   "source": [
    "plt.figure(figsize=(20,5))\n",
    "sns.boxplot(x='model_name', y='f1_macro', \n",
    "            data=cv_df, \n",
    "            showmeans=True)\n",
    "plt.title(\"f1-macro (cv = 5)\\n\", size=14);"
   ]
  },
  {
   "cell_type": "code",
   "execution_count": null,
   "metadata": {},
   "outputs": [],
   "source": [
    "plt.figure(figsize=(20,5))\n",
    "sns.boxplot(x='model_name', y='f1_micro', \n",
    "            data=cv_df, \n",
    "            showmeans=True)\n",
    "plt.title(\"f1-micro (cv = 5)\\n\", size=14);"
   ]
  },
  {
   "cell_type": "code",
   "execution_count": null,
   "metadata": {},
   "outputs": [],
   "source": [
    "X_train, X_test, y_train, y_test,indices_train,indices_test = train_test_split(features, \n",
    "                                                               labels, \n",
    "                                                               df2.index, test_size=0.2, \n",
    "                                                               random_state=1)\n",
    "model = DecisionTreeClassifier(random_state=0)\n",
    "model.fit(X_train, y_train)\n",
    "y_pred = model.predict(X_test)"
   ]
  },
  {
   "cell_type": "code",
   "execution_count": null,
   "metadata": {},
   "outputs": [],
   "source": [
    "print('\\t\\t\\t\\tCLASSIFICATIION METRICS\\n')\n",
    "print(metrics.classification_report(y_test, y_pred, \n",
    "                                    target_names= df2['label'].unique()))"
   ]
  },
  {
   "cell_type": "markdown",
   "metadata": {},
   "source": [
    "# Min-df"
   ]
  },
  {
   "cell_type": "code",
   "execution_count": null,
   "metadata": {},
   "outputs": [],
   "source": [
    "#final1=[]\n",
    "#final2=[]\n",
    "x=1\n",
    "#print('Scores for min-df=2 are given below')\n",
    "#print(acc)\n",
    "while(x<=30):\n",
    "    vectorizer = CountVectorizer(min_df=x,\n",
    "                        ngram_range=(1, 3), \n",
    "                        stop_words='english',\n",
    "                            )\n",
    "    # We transform each complaint into a vector\n",
    "    demo_features = vectorizer.fit_transform(df2.tweet).toarray()\n",
    "    labels = df2.category_id\n",
    "    print(\"\\nFor min-df=\",x,\", each of the %d tweets is represented by %d features\\n\" %(demo_features.shape))\n",
    "    \n",
    "    X = df2['tweet'] # Collection of documents\n",
    "    y = df2['label'] # Target or the labels we want to predict (i.e., the 13 different complaints of products)\n",
    "    X_train, X_test, y_train, y_test = train_test_split(X, y, \n",
    "                                                    test_size=0.2,\n",
    "                                                    random_state = 0)\n",
    "    models = [\n",
    "    LinearSVC(max_iter=100000),\n",
    "    LogisticRegression(random_state=0,max_iter=10000),\n",
    "    DecisionTreeClassifier(random_state=0),\n",
    "    ]\n",
    "\n",
    "    # 5 Cross-validation\n",
    "    CV = 5\n",
    "    cv_df = pd.DataFrame(index=range(CV * len(models)))\n",
    "\n",
    "    entries = []\n",
    "    score=['f1_macro','f1_micro']\n",
    "    for model in models:\n",
    "        model_name = model.__class__.__name__\n",
    "        accuracies = cross_validate(model, demo_features, labels, scoring=score, cv=CV)\n",
    "        i=0\n",
    "        for f1_macro,f1_micro in zip(accuracies['test_f1_macro'],accuracies['test_f1_micro']):\n",
    "            entries.append((i,model_name,f1_macro,f1_micro))\n",
    "            i+=1\n",
    "    cv_df = pd.DataFrame(entries, columns=['index','model_name','f1_macro','f1_micro'])\n",
    "    f1_macro = cv_df.groupby('model_name').f1_macro.mean()\n",
    "    f1_micro = cv_df.groupby('model_name').f1_micro.mean()\n",
    "    demo_acc = pd.concat([f1_macro,f1_micro], axis= 1, ignore_index=True)\n",
    "    demo_acc.columns = ['f1-macro_mean','f1-micro_mean']\n",
    "    #demo_acc=demo_acc.sort_values(by=['f1-macro_mean'], ascending=False)\n",
    "    print(\"Scores for min-df=\",x,\" are given below:\\n\")\n",
    "    print(demo_acc)\n",
    "    l1=demo_acc['f1-macro_mean'].tolist()\n",
    "    l2=demo_acc['f1-micro_mean'].tolist()\n",
    "    l3=[]\n",
    "    l3=[x]+l1+l2\n",
    "    final1.append(l3)\n",
    "    x+=1\n",
    "    "
   ]
  },
  {
   "cell_type": "code",
   "execution_count": null,
   "metadata": {},
   "outputs": [],
   "source": [
    "temp=pd.DataFrame(final1,columns=['mnf','DTC_f1-macro','LSVC_f1-macro','LR_f1-macro','DTC_f1-micro','LSVC_f1-micro','LR_f1-micro'])\n",
    "temp.to_csv('scores from countvectorizer(mnf).csv')\n",
    "temp"
   ]
  },
  {
   "cell_type": "code",
   "execution_count": null,
   "metadata": {},
   "outputs": [],
   "source": [
    "temp.plot(x='min_df',y=['DTC_f1-macro','LSVC_f1-macro','LR_f1-macro'],marker='^',figsize=(10,5),ylim=(0.7,0.8));"
   ]
  },
  {
   "cell_type": "markdown",
   "metadata": {},
   "source": [
    "## From above tests, better results are achieved when min-df=2"
   ]
  },
  {
   "cell_type": "markdown",
   "metadata": {},
   "source": [
    "# Mnf"
   ]
  },
  {
   "cell_type": "code",
   "execution_count": null,
   "metadata": {},
   "outputs": [],
   "source": [
    "final1=[]\n",
    "w=500\n",
    "#print('Scores for min-df=2 are given below')\n",
    "#print(acc)\n",
    "while(w<=20000):\n",
    "    vectorizer = CountVectorizer(max_features=w,\n",
    "                        ngram_range=(1, 3), \n",
    "                        stop_words='english',\n",
    "                            )\n",
    "    # We transform each complaint into a vector\n",
    "    demo_features = vectorizer.fit_transform(df2.tweet).toarray()\n",
    "    labels = df2.category_id\n",
    "    print(\"\\nFor max-featues=\",w,\", each of the %d tweets is represented by %d features\\n\" %(demo_features.shape))\n",
    "    \n",
    "    X = df2['tweet'] # Collection of documents\n",
    "    y = df2['label'] # Target or the labels we want to predict (i.e., the 13 different complaints of products)\n",
    "    X_train, X_test, y_train, y_test = train_test_split(X, y, \n",
    "                                                    test_size=0.2,\n",
    "                                                    random_state = 0)\n",
    "    models = [\n",
    "    LinearSVC(max_iter=100000),\n",
    "    LogisticRegression(random_state=0,max_iter=10000),\n",
    "    DecisionTreeClassifier(random_state=0),\n",
    "    ]\n",
    "\n",
    "    # 5 Cross-validation\n",
    "    CV = 5\n",
    "    cv_df = pd.DataFrame(index=range(CV * len(models)))\n",
    "\n",
    "    entries = []\n",
    "    score=['f1_macro','f1_micro']\n",
    "    for model in models:\n",
    "        model_name = model.__class__.__name__\n",
    "        accuracies = cross_validate(model, demo_features, labels, scoring=score, cv=CV)\n",
    "        i=0\n",
    "        for f1_macro,f1_micro in zip(accuracies['test_f1_macro'],accuracies['test_f1_micro']):\n",
    "            entries.append((i,model_name,f1_macro,f1_micro))\n",
    "            i+=1\n",
    "    cv_df = pd.DataFrame(entries, columns=['index','model_name','f1_macro','f1_micro'])\n",
    "    f1_macro = cv_df.groupby('model_name').f1_macro.mean()\n",
    "    f1_micro = cv_df.groupby('model_name').f1_micro.mean()\n",
    "    demo_acc = pd.concat([f1_macro,f1_micro], axis= 1, ignore_index=True)\n",
    "    demo_acc.columns = ['f1-macro_mean','f1-micro_mean']\n",
    "    #demo_acc=demo_acc.sort_values(by=['f1-macro_mean'], ascending=False)\n",
    "    print(\"Scores for max features=\",w,\" are given below:\\n\")\n",
    "    print(demo_acc)\n",
    "    l1=demo_acc['f1-macro_mean'].tolist()\n",
    "    l2=demo_acc['f1-micro_mean'].tolist()\n",
    "    l3=[]\n",
    "    l3=[w]+l1+l2\n",
    "    final1.append(l3)\n",
    "    w+=500"
   ]
  },
  {
   "cell_type": "code",
   "execution_count": null,
   "metadata": {},
   "outputs": [],
   "source": [
    "temp=pd.DataFrame(final1,columns=['mnf','DTC_f1-macro','LSVC_f1-macro','LR_f1-macro','DTC_f1-micro','LSVC_f1-micro','LR_f1-micro'])\n",
    "temp.to_csv('scores from countvectorizer(mnf).csv')\n",
    "temp"
   ]
  },
  {
   "cell_type": "code",
   "execution_count": null,
   "metadata": {},
   "outputs": [],
   "source": [
    "temp.plot(x='mnf',y=['DTC_f1-macro','LSVC_f1-macro','LR_f1-macro'],marker='^',figsize=(10,5),ylim=(0.7,0.8));"
   ]
  },
  {
   "cell_type": "markdown",
   "metadata": {},
   "source": [
    "## From above tests, better results are achieved when max-features=17000"
   ]
  },
  {
   "cell_type": "markdown",
   "metadata": {},
   "source": [
    "# TF-IDF"
   ]
  },
  {
   "cell_type": "code",
   "execution_count": null,
   "metadata": {},
   "outputs": [],
   "source": [
    "tfidf = TfidfVectorizer(sublinear_tf=True,\n",
    "                        ngram_range=(1, 3), \n",
    "                        stop_words='english')\n",
    "\n",
    "# We transform each complaint into a vector\n",
    "features = tfidf.fit_transform(df2.tweet).toarray()\n",
    "\n",
    "labels = df2.category_id\n",
    "\n",
    "print(\"Each of the %d tweets is represented by %d features (TF-IDF score of unigrams and bigrams)\" %(features.shape))"
   ]
  },
  {
   "cell_type": "code",
   "execution_count": null,
   "metadata": {},
   "outputs": [],
   "source": [
    "X = df2['tweet'] # Collection of documents\n",
    "y = df2['label'] # Target or the labels we want to predict (i.e., the 13 different complaints of products)\n",
    "\n",
    "X_train, X_test, y_train, y_test = train_test_split(X, y, \n",
    "                                                    test_size=0.2,\n",
    "                                                    random_state = 0)"
   ]
  },
  {
   "cell_type": "code",
   "execution_count": null,
   "metadata": {},
   "outputs": [],
   "source": [
    "models = [\n",
    "    RandomForestClassifier(n_estimators=100, max_depth=5, random_state=0),\n",
    "    LinearSVC(),\n",
    "    MultinomialNB(),\n",
    "    LogisticRegression(random_state=0),\n",
    "    KNeighborsClassifier(n_neighbors=1),\n",
    "    ComplementNB(),\n",
    "    DecisionTreeClassifier(random_state=0),\n",
    "    SVC(),\n",
    "]\n",
    "\n",
    "# 5 Cross-validation\n",
    "CV = 5\n",
    "cv_df = pd.DataFrame(index=range(CV * len(models)))\n",
    "\n",
    "entries = []\n",
    "score=['f1_macro','f1_micro']\n",
    "for model in models:\n",
    "    model_name = model.__class__.__name__\n",
    "    accuracies = cross_validate(model, features, labels, scoring=score, cv=CV)\n",
    "    for f1_macro,f1_micro in zip(accuracies['test_f1_macro'],accuracies['test_f1_micro']):\n",
    "        entries.append((model_name,f1_macro,f1_micro))\n",
    "cv_df = pd.DataFrame(entries, columns=['model_name','f1_macro','f1_micro'])\n",
    "cv_df"
   ]
  },
  {
   "cell_type": "code",
   "execution_count": null,
   "metadata": {},
   "outputs": [],
   "source": [
    "f1_macro = cv_df.groupby('model_name').f1_macro.mean()\n",
    "f1_micro = cv_df.groupby('model_name').f1_micro.mean()\n",
    "acc = pd.concat([f1_macro,f1_micro], axis= 1, \n",
    "          ignore_index=True)\n",
    "acc.columns = ['f1-macro_mean','f1-micro_mean']\n",
    "acc=acc.sort_values(by=['f1-macro_mean'], ascending=False)\n",
    "acc"
   ]
  },
  {
   "cell_type": "code",
   "execution_count": null,
   "metadata": {},
   "outputs": [],
   "source": [
    "plt.figure(figsize=(20,5))\n",
    "sns.boxplot(x='model_name', y='f1_macro', \n",
    "            data=cv_df, \n",
    "            showmeans=True)\n",
    "plt.title(\"F1-MACRO MEAN (cv = 5)\\n\", size=14);"
   ]
  },
  {
   "cell_type": "code",
   "execution_count": null,
   "metadata": {},
   "outputs": [],
   "source": [
    "plt.figure(figsize=(20,5))\n",
    "sns.boxplot(x='model_name', y='f1_micro', \n",
    "            data=cv_df, \n",
    "            showmeans=True)\n",
    "plt.title(\"F1-MICRO MEAN (cv = 5)\\n\", size=14);"
   ]
  },
  {
   "cell_type": "markdown",
   "metadata": {},
   "source": [
    "# min-df"
   ]
  },
  {
   "cell_type": "code",
   "execution_count": null,
   "metadata": {},
   "outputs": [],
   "source": [
    "final1=[]\n",
    "#final2=[]\n",
    "x=1\n",
    "#print('Scores for min-df=2 are given below')\n",
    "#print(acc)\n",
    "while(x<=30):\n",
    "    vectorizer = TfidfVectorizer(sublinear_tf=True,\n",
    "                                 min_df=x,\n",
    "                                 ngram_range=(1, 3),\n",
    "                                 stop_words='english',\n",
    "                                 )\n",
    "    # We transform each complaint into a vector\n",
    "    demo_features = vectorizer.fit_transform(df2.tweet).toarray()\n",
    "    labels = df2.category_id\n",
    "    print(\"\\nFor min-df=\",x,\", each of the %d tweets is represented by %d features\\n\" %(demo_features.shape))\n",
    "    \n",
    "    X = df2['tweet'] # Collection of documents\n",
    "    y = df2['label'] # Target or the labels we want to predict (i.e., the 13 different complaints of products)\n",
    "    X_train, X_test, y_train, y_test = train_test_split(X, y, \n",
    "                                                    test_size=0.2,\n",
    "                                                    random_state = 0)\n",
    "    models = [\n",
    "    LinearSVC(max_iter=100000),\n",
    "    LogisticRegression(random_state=0,max_iter=10000),\n",
    "    DecisionTreeClassifier(random_state=0),\n",
    "    ]\n",
    "\n",
    "    # 5 Cross-validation\n",
    "    CV = 5\n",
    "    cv_df = pd.DataFrame(index=range(CV * len(models)))\n",
    "\n",
    "    entries = []\n",
    "    score=['f1_macro','f1_micro']\n",
    "    for model in models:\n",
    "        model_name = model.__class__.__name__\n",
    "        accuracies = cross_validate(model, demo_features, labels, scoring=score, cv=CV)\n",
    "        i=0\n",
    "        for f1_macro,f1_micro in zip(accuracies['test_f1_macro'],accuracies['test_f1_micro']):\n",
    "            entries.append((i,model_name,f1_macro,f1_micro))\n",
    "            i+=1\n",
    "    cv_df = pd.DataFrame(entries, columns=['index','model_name','f1_macro','f1_micro'])\n",
    "    f1_macro = cv_df.groupby('model_name').f1_macro.mean()\n",
    "    f1_micro = cv_df.groupby('model_name').f1_micro.mean()\n",
    "    demo_acc = pd.concat([f1_macro,f1_micro], axis= 1, ignore_index=True)\n",
    "    demo_acc.columns = ['f1-macro_mean','f1-micro_mean']\n",
    "    #demo_acc=demo_acc.sort_values(by=['f1-macro_mean'], ascending=False)\n",
    "    print(\"Scores for min-df=\",x,\" are given below:\\n\")\n",
    "    print(demo_acc)\n",
    "    l1=demo_acc['f1-macro_mean'].tolist()\n",
    "    l2=demo_acc['f1-micro_mean'].tolist()\n",
    "    l3=[]\n",
    "    l3=[x]+l1+l2\n",
    "    final1.append(l3)\n",
    "    x+=1"
   ]
  },
  {
   "cell_type": "code",
   "execution_count": null,
   "metadata": {},
   "outputs": [],
   "source": [
    "temp=pd.DataFrame(final1,columns=['min_df','DTC_f1-macro','LSVC_f1-macro','LR_f1-macro','DTC_f1-micro','LSVC_f1-micro','LR_f1-micro'])\n",
    "temp.to_csv('scores from tf-idf.csv')\n",
    "temp"
   ]
  },
  {
   "cell_type": "code",
   "execution_count": null,
   "metadata": {},
   "outputs": [],
   "source": [
    "temp.plot(x='min_df',y=['DTC_f1-macro','LSVC_f1-macro','LR_f1-macro'],marker='^',figsize=(10,5),ylim=(0.7,0.8));"
   ]
  },
  {
   "cell_type": "markdown",
   "metadata": {},
   "source": [
    "# From above tests, min-df=2 achieved better results"
   ]
  },
  {
   "cell_type": "code",
   "execution_count": null,
   "metadata": {},
   "outputs": [],
   "source": [
    "final1=[]\n",
    "w=500\n",
    "#print('Scores for min-df=2 are given below')\n",
    "#print(acc)\n",
    "while(w<=20000):\n",
    "    vectorizer = TfidfVectorizer(sublinear_tf=True,\n",
    "                                  max_features=w,\n",
    "                                  ngram_range=(1, 3),\n",
    "                                  stop_words='english',\n",
    "                                  )\n",
    "    # We transform each complaint into a vector\n",
    "    demo_features = vectorizer.fit_transform(df2.tweet).toarray()\n",
    "    labels = df2.category_id\n",
    "    print(\"\\nFor max-featues=\",w,\", each of the %d tweets is represented by %d features\\n\" %(demo_features.shape))\n",
    "    \n",
    "    X = df2['tweet'] # Collection of documents\n",
    "    y = df2['label'] # Target or the labels we want to predict (i.e., the 13 different complaints of products)\n",
    "    X_train, X_test, y_train, y_test = train_test_split(X, y, \n",
    "                                                    test_size=0.2,\n",
    "                                                    random_state = 0)\n",
    "    models = [\n",
    "    LinearSVC(max_iter=100000),\n",
    "    LogisticRegression(random_state=0,max_iter=10000),\n",
    "    DecisionTreeClassifier(random_state=0),\n",
    "    ]\n",
    "\n",
    "    # 5 Cross-validation\n",
    "    CV = 5\n",
    "    cv_df = pd.DataFrame(index=range(CV * len(models)))\n",
    "\n",
    "    entries = []\n",
    "    score=['f1_macro','f1_micro']\n",
    "    for model in models:\n",
    "        model_name = model.__class__.__name__\n",
    "        accuracies = cross_validate(model, demo_features, labels, scoring=score, cv=CV)\n",
    "        i=0\n",
    "        for f1_macro,f1_micro in zip(accuracies['test_f1_macro'],accuracies['test_f1_micro']):\n",
    "            entries.append((i,model_name,f1_macro,f1_micro))\n",
    "            i+=1\n",
    "    cv_df = pd.DataFrame(entries, columns=['index','model_name','f1_macro','f1_micro'])\n",
    "    f1_macro = cv_df.groupby('model_name').f1_macro.mean()\n",
    "    f1_micro = cv_df.groupby('model_name').f1_micro.mean()\n",
    "    demo_acc = pd.concat([f1_macro,f1_micro], axis= 1, ignore_index=True)\n",
    "    demo_acc.columns = ['f1-macro_mean','f1-micro_mean']\n",
    "    #demo_acc=demo_acc.sort_values(by=['f1-macro_mean'], ascending=False)\n",
    "    print(\"Scores for max features=\",w,\" are given below:\\n\")\n",
    "    print(demo_acc)\n",
    "    l1=demo_acc['f1-macro_mean'].tolist()\n",
    "    l2=demo_acc['f1-micro_mean'].tolist()\n",
    "    l3=[]\n",
    "    l3=[w]+l1+l2\n",
    "    final1.append(l3)\n",
    "    w+=500"
   ]
  },
  {
   "cell_type": "code",
   "execution_count": null,
   "metadata": {},
   "outputs": [],
   "source": [
    "temp=pd.DataFrame(final1,columns=['mnf','DTC_f1-macro','LSVC_f1-macro','LR_f1-macro','DTC_f1-micro','LSVC_f1-micro','LR_f1-micro'])\n",
    "temp.to_csv('scores from tf-idf(mnf).csv')\n",
    "temp"
   ]
  },
  {
   "cell_type": "code",
   "execution_count": null,
   "metadata": {},
   "outputs": [],
   "source": [
    "temp.plot(x='mnf',y=['DTC_f1-macro','LSVC_f1-macro','LR_f1-macro'],marker='^',figsize=(10,5));"
   ]
  },
  {
   "cell_type": "markdown",
   "metadata": {},
   "source": [
    "## From the above tests, better results are achieved when max-features=1800"
   ]
  },
  {
   "cell_type": "code",
   "execution_count": null,
   "metadata": {},
   "outputs": [],
   "source": []
  }
 ],
 "metadata": {
  "kernelspec": {
   "display_name": "Python 3",
   "language": "python",
   "name": "python3"
  },
  "language_info": {
   "codemirror_mode": {
    "name": "ipython",
    "version": 3
   },
   "file_extension": ".py",
   "mimetype": "text/x-python",
   "name": "python",
   "nbconvert_exporter": "python",
   "pygments_lexer": "ipython3",
   "version": "3.7.4"
  }
 },
 "nbformat": 4,
 "nbformat_minor": 4
}
